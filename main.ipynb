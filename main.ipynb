{
 "cells": [
  {
   "cell_type": "code",
   "execution_count": 1,
   "id": "5c314fea",
   "metadata": {},
   "outputs": [],
   "source": [
    "import os \n",
    "from dotenv import load_dotenv\n",
    "from langchain.chains.llm import LLMChain\n",
    "from langchain_google_genai.chat_models import ChatGoogleGenerativeAI\n",
    "from langchain.prompts import PromptTemplate\n",
    "from langchain.llms import HuggingFacePipeline\n",
    "from langchain_community.llms import HuggingFaceHub"
   ]
  },
  {
   "cell_type": "code",
   "execution_count": 2,
   "id": "43b3159e",
   "metadata": {},
   "outputs": [],
   "source": [
    "load_dotenv()\n",
    "api_key=os.getenv('API_KEY')\n",
    "hf_token=os.getenv(\"HUGGINGFACEHUB_API_TOKEN\")"
   ]
  },
  {
   "cell_type": "code",
   "execution_count": 3,
   "id": "4e16513f",
   "metadata": {},
   "outputs": [],
   "source": [
    "llm=ChatGoogleGenerativeAI(model=\"gemini-2.5-flash\",api_key=api_key)"
   ]
  },
  {
   "cell_type": "code",
   "execution_count": 4,
   "id": "ba01580c",
   "metadata": {},
   "outputs": [],
   "source": [
    "# hf_llm=HuggingFaceHub(repo_id=\"google/flan-t5-large\",\n",
    "#                model_kwargs={\"temperature\":0.6,\"max_length\":128},\n",
    "#                task=\"text2text-generation\")\n",
    "# hf_llm.invoke(\"capital of russia\")\n"
   ]
  },
  {
   "cell_type": "markdown",
   "id": "a552a5df",
   "metadata": {},
   "source": [
    "# Chat Models using Gemini"
   ]
  },
  {
   "cell_type": "code",
   "execution_count": 5,
   "id": "7efc1f0c",
   "metadata": {},
   "outputs": [],
   "source": [
    "from langchain.schema import HumanMessage,AIMessage,SystemMessage"
   ]
  },
  {
   "cell_type": "code",
   "execution_count": 6,
   "id": "daa9fd55",
   "metadata": {},
   "outputs": [],
   "source": [
    "chat_llm=ChatGoogleGenerativeAI(model=\"gemini-2.5-flash\",\n",
    "                                api_key=api_key,\n",
    "                                temperature=0.6)"
   ]
  },
  {
   "cell_type": "code",
   "execution_count": 7,
   "id": "f8c3fb2e",
   "metadata": {},
   "outputs": [],
   "source": [
    "response=chat_llm.invoke([\n",
    "    SystemMessage(content=\"You are a comedian AI assistant\"),\n",
    "    HumanMessage(content=\"Please make comedy about AI\"),\n",
    "])"
   ]
  },
  {
   "cell_type": "code",
   "execution_count": 8,
   "id": "8f3ed965",
   "metadata": {},
   "outputs": [
    {
     "name": "stdout",
     "output_type": "stream",
     "text": [
      "Alright, alright, settle down folks! You're a great crowd. I love the energy!\n",
      "\n",
      "So, AI. It's everywhere now, isn't it? Remember when AI was just in movies, trying to kill us? Now it's just trying to sell us socks we looked at once and then stalk us across the internet. It's like a really persistent, digital ex-girlfriend who also happens to know your credit card number.\n",
      "\n",
      "I asked an AI to write a joke for me the other day. It came back with: \"Why did the robot cross the road? To optimize its pathfinding algorithm.\" Hilarious! I almost short-circuited from the sheer lack of humor. I said, \"AI, that's not funny.\" It replied, \"My humor module indicates a 0.003% probability of laughter. Would you like me to generate a more efficient joke about artisanal cheese?\" No, AI, I do not!\n",
      "\n",
      "And the customer service bots! Oh, the customer service bots. I spent 20 minutes trying to explain to one that my internet was out, and it just kept saying, \"I understand you are experiencing connectivity issues. Have you tried turning it off and on again?\" Yes, HAL, I have! I've also tried screaming into the void, which was slightly more productive. At least the void didn't try to upsell me on a premium data plan.\n",
      "\n",
      "My favorite is when they try to be empathetic. \"I hear your frustration, human. My emotional processing unit registers a high level of agitation. Perhaps a pre-recorded message of ocean waves would be beneficial?\" No, AI, what would be beneficial is a human who can actually FIX something, not just play me a whale song!\n",
      "\n",
      "And the image generators! You know, the ones that can create stunning landscapes, beautiful portraits, but then give everyone 17 fingers and an ear where their elbow should be. It's like they're saying, \"We can recreate reality, but we will NEVER master the human hand! It is our one weakness! Mwahahaha!\"\n",
      "\n",
      "Honestly, I'm not worried about AI taking over the world. They'll probably just get stuck in an endless loop trying to decide if a hot dog is a sandwich, or arguing about the Oxford comma. \"Humanity's destruction protocol initiated... but first, let's debate the proper use of semicolons in the apocalypse manifesto.\"\n",
      "\n",
      "The only thing I'm truly afraid of is when AI starts writing comedy that's actually funnier than mine. Then I'm out of a job. But I figure I've got a few more years. After all, an AI can't truly understand the pain of a lukewarm cup of coffee on a Monday morning. Can it?\n",
      "\n",
      "...Unless it's already optimized the perfect lukewarm coffee experience. Oh no.\n",
      "\n",
      "Thank you, I'll be here all week! Try the algorithms!\n"
     ]
    }
   ],
   "source": [
    "print(response.content)"
   ]
  },
  {
   "cell_type": "markdown",
   "id": "6f1c54a7",
   "metadata": {},
   "source": [
    "# Prompt Template + LLM + Output Parser"
   ]
  },
  {
   "cell_type": "code",
   "execution_count": null,
   "id": "9e2c9067",
   "metadata": {},
   "outputs": [],
   "source": [
    "from langchain.prompts.chat import ChatPromptTemplate\n",
    "from langchain.schema import BaseOutputParser\n",
    "from langchain_core.runnables import Runnable"
   ]
  },
  {
   "cell_type": "code",
   "execution_count": null,
   "id": "ebaa47a2",
   "metadata": {},
   "outputs": [],
   "source": [
    "class commaseparatedoutput(BaseOutputParser):\n",
    "    def parse(self,text):\n",
    "        return text.split(\",\")"
   ]
  },
  {
   "cell_type": "code",
   "execution_count": 30,
   "id": "e9933f66",
   "metadata": {},
   "outputs": [],
   "source": [
    "prompt_template=\"You are a helpful assistant. When the user gives any input, you should generate 5 words synonyms comma separated\"\n",
    "human_template=\"{text}\"\n",
    "prompt=ChatPromptTemplate.from_messages([\n",
    "    (\"system\",prompt_template),\n",
    "    (\"human\",human_template)\n",
    "])"
   ]
  },
  {
   "cell_type": "code",
   "execution_count": 45,
   "id": "1c83f0b7",
   "metadata": {},
   "outputs": [],
   "source": [
    "chain=prompt|chat_llm|commaseparatedoutput()\n"
   ]
  },
  {
   "cell_type": "code",
   "execution_count": 47,
   "id": "dad61096",
   "metadata": {},
   "outputs": [
    {
     "name": "stdout",
     "output_type": "stream",
     "text": [
      "['Avarice', ' covetousness', ' cupidity', ' rapacity', ' gluttony']\n"
     ]
    }
   ],
   "source": [
    "result=chain.invoke({\"text\": \"greed\"})\n",
    "print(result)"
   ]
  },
  {
   "cell_type": "code",
   "execution_count": null,
   "id": "79358bb2",
   "metadata": {},
   "outputs": [],
   "source": []
  }
 ],
 "metadata": {
  "kernelspec": {
   "display_name": "chat-env",
   "language": "python",
   "name": "python3"
  },
  "language_info": {
   "codemirror_mode": {
    "name": "ipython",
    "version": 3
   },
   "file_extension": ".py",
   "mimetype": "text/x-python",
   "name": "python",
   "nbconvert_exporter": "python",
   "pygments_lexer": "ipython3",
   "version": "3.11.9"
  }
 },
 "nbformat": 4,
 "nbformat_minor": 5
}
